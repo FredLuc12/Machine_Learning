{
 "cells": [
  {
   "cell_type": "code",
   "execution_count": 1,
   "metadata": {},
   "outputs": [
    {
     "name": "stdout",
     "output_type": "stream",
     "text": [
      "Somme maximale: 11\n",
      "Sous-tableau: [7, -1, 2, 3]\n"
     ]
    }
   ],
   "source": [
    "def maxSubArray(nums):\n",
    "    # Initialisation des variables\n",
    "    max_current = nums[0]\n",
    "    max_global = nums[0]\n",
    "    \n",
    "    # Pour récupérer les indices du sous-tableau\n",
    "    start = 0\n",
    "    end = 0\n",
    "    temp_start = 0\n",
    "    \n",
    "    # Parcours du tableau\n",
    "    for i in range(1, len(nums)):\n",
    "        if nums[i] > max_current + nums[i]:\n",
    "            max_current = nums[i]\n",
    "            temp_start = i\n",
    "        else:\n",
    "            max_current += nums[i]\n",
    "\n",
    "        if max_current > max_global:\n",
    "            max_global = max_current\n",
    "            start = temp_start\n",
    "            end = i\n",
    "    \n",
    "    # Retourner la somme maximale et le sous-tableau correspondant\n",
    "    return max_global, nums[start:end+1]\n",
    "\n",
    "# Exemple d'utilisation\n",
    "t = [2, 3, -8, 7, -1, 2, 3]\n",
    "result, sub_array = maxSubArray(t)\n",
    "print(\"Somme maximale:\", result)\n",
    "print(\"Sous-tableau:\", sub_array)\n"
   ]
  }
 ],
 "metadata": {
  "kernelspec": {
   "display_name": "Python 3",
   "language": "python",
   "name": "python3"
  },
  "language_info": {
   "codemirror_mode": {
    "name": "ipython",
    "version": 3
   },
   "file_extension": ".py",
   "mimetype": "text/x-python",
   "name": "python",
   "nbconvert_exporter": "python",
   "pygments_lexer": "ipython3",
   "version": "3.12.6"
  }
 },
 "nbformat": 4,
 "nbformat_minor": 2
}
