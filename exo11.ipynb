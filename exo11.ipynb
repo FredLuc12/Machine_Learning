{
 "cells": [
  {
   "cell_type": "code",
   "execution_count": null,
   "metadata": {},
   "outputs": [],
   "source": [
    "def isAnagram(s, t):\n",
    "    return sorted(s) == sorted(t)\n"
   ]
  },
  {
   "cell_type": "code",
   "execution_count": null,
   "metadata": {},
   "outputs": [],
   "source": [
    "from collections import defaultdict\n",
    "\n",
    "def groupAnagrams(strs):\n",
    "    anagrams = defaultdict(list)\n",
    "    for s in strs:\n",
    "        sorted_str = ''.join(sorted(s))\n",
    "        anagrams[sorted_str].append(s)\n",
    "    return list(anagrams.values())\n"
   ]
  },
  {
   "cell_type": "code",
   "execution_count": null,
   "metadata": {},
   "outputs": [],
   "source": [
    "from collections import Counter\n",
    "import heapq\n",
    "\n",
    "def topKFrequent(nums, k):\n",
    "    count = Counter(nums)\n",
    "    return heapq.nlargest(k, count.keys(), key=count.get)\n"
   ]
  },
  {
   "cell_type": "code",
   "execution_count": null,
   "metadata": {},
   "outputs": [],
   "source": [
    "def longestConsecutive(nums):\n",
    "    num_set = set(nums)\n",
    "    longest_streak = 0\n",
    "    \n",
    "    for num in num_set:\n",
    "        if num - 1 not in num_set:\n",
    "            current_num = num\n",
    "            current_streak = 1\n",
    "            \n",
    "            while current_num + 1 in num_set:\n",
    "                current_num += 1\n",
    "                current_streak += 1\n",
    "            \n",
    "            longest_streak = max(longest_streak, current_streak)\n",
    "    \n",
    "    return longest_streak\n"
   ]
  },
  {
   "cell_type": "code",
   "execution_count": null,
   "metadata": {},
   "outputs": [],
   "source": [
    "def subarraySum(nums, k):\n",
    "    count = 0\n",
    "    current_sum = 0\n",
    "    sum_map = {0: 1}\n",
    "    \n",
    "    for num in nums:\n",
    "        current_sum += num\n",
    "        if current_sum - k in sum_map:\n",
    "            count += sum_map[current_sum - k]\n",
    "        sum_map[current_sum] = sum_map.get(current_sum, 0) + 1\n",
    "    \n",
    "    return count\n"
   ]
  }
 ],
 "metadata": {
  "language_info": {
   "name": "python"
  }
 },
 "nbformat": 4,
 "nbformat_minor": 2
}
