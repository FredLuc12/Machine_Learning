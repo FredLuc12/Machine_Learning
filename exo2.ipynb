{
 "cells": [
  {
   "cell_type": "code",
   "execution_count": null,
   "metadata": {},
   "outputs": [],
   "source": [
    "class Solution(object):\n",
    "    def numIslands(self, grid):\n",
    "        \"\"\"\n",
    "        :type grid: List[List[str]]\n",
    "        :rtype: int\n",
    "        \"\"\"\n",
    "        if not grid:\n",
    "            return 0\n",
    "\n",
    "        m = len(grid)\n",
    "        n = len(grid[0])\n",
    "        num_islands = 0\n",
    "\n",
    "        def dfs(i, j):\n",
    "            # Vérifier si on est en dehors de la grille ou sur de l'eau\n",
    "            if i < 0 or i >= m or j < 0 or j >= n or grid[i][j] == '0':\n",
    "                return\n",
    "            # Marquer cette cellule comme visitée en la transformant en '0'\n",
    "            grid[i][j] = '0'\n",
    "            dfs(i - 1, j)  # Haut\n",
    "            dfs(i + 1, j)  # Bas\n",
    "            dfs(i, j - 1)  # Gauche\n",
    "            dfs(i, j + 1)  # Droite\n",
    "\n",
    "        # Parcourir chaque cellule de la grille\n",
    "        for i in range(m):\n",
    "            for j in range(n):\n",
    "                if grid[i][j] == '1':  # Si on trouve une île\n",
    "                    num_islands += 1\n",
    "                    dfs(i, j)  # Marquer toutes les cellules connectées à cette île\n",
    "\n",
    "        return num_islands\n"
   ]
  }
 ],
 "metadata": {
  "language_info": {
   "name": "python"
  }
 },
 "nbformat": 4,
 "nbformat_minor": 2
}
