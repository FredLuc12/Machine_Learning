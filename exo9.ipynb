{
 "cells": [
  {
   "cell_type": "code",
   "execution_count": null,
   "metadata": {},
   "outputs": [],
   "source": [
    "class TreeNode:\n",
    "    def __init__(self, val=0, left=None, right=None):\n",
    "        self.val = val\n",
    "        self.left = left\n",
    "        self.right = right\n",
    "\n",
    "def maxDepth(root):\n",
    "    if not root:\n",
    "        return 0\n",
    "    return 1 + max(maxDepth(root.left), maxDepth(root.right))\n"
   ]
  },
  {
   "cell_type": "code",
   "execution_count": 1,
   "metadata": {},
   "outputs": [],
   "source": [
    "class TreeNode:\n",
    "    def __init__(self, val=0, left=None, right=None):\n",
    "        self.val = val\n",
    "        self.left = left\n",
    "        self.right = right\n",
    "\n",
    "def isValidBST(root):\n",
    "    def validate(node, low=float('-inf'), high=float('inf')):\n",
    "        if not node:\n",
    "            return True\n",
    "        if not (low < node.val < high):\n",
    "            return False\n",
    "        return validate(node.left, low, node.val) and validate(node.right, node.val, high)\n",
    "\n",
    "    return validate(root)\n"
   ]
  },
  {
   "cell_type": "code",
   "execution_count": 2,
   "metadata": {},
   "outputs": [],
   "source": [
    "from collections import deque\n",
    "\n",
    "def levelOrder(root):\n",
    "    result = []\n",
    "    if not root:\n",
    "        return result\n",
    "    \n",
    "    queue = deque([root])\n",
    "    \n",
    "    while queue:\n",
    "        level = []\n",
    "        for _ in range(len(queue)):\n",
    "            node = queue.popleft()\n",
    "            level.append(node.val)\n",
    "            if node.left:\n",
    "                queue.append(node.left)\n",
    "            if node.right:\n",
    "                queue.append(node.right)\n",
    "        result.append(level)\n",
    "    \n",
    "    return result\n"
   ]
  },
  {
   "cell_type": "code",
   "execution_count": null,
   "metadata": {},
   "outputs": [],
   "source": [
    "class TreeNode:\n",
    "    def __init__(self, val=0, left=None, right=None):\n",
    "        self.val = val\n",
    "        self.left = left\n",
    "        self.right = right\n",
    "\n",
    "def lowestCommonAncestor(root, p, q):\n",
    "    if not root or root == p or root == q:\n",
    "        return root\n",
    "    left = lowestCommonAncestor(root.left, p, q)\n",
    "    right = lowestCommonAncestor(root.right, p, q)\n",
    "    \n",
    "    if left and right:\n",
    "        return root\n",
    "    return left if left else right\n"
   ]
  },
  {
   "cell_type": "code",
   "execution_count": null,
   "metadata": {},
   "outputs": [],
   "source": [
    "class Codec:\n",
    "    def serialize(self, root):\n",
    "        result = []\n",
    "\n",
    "        def helper(node):\n",
    "            if not node:\n",
    "                result.append('None')\n",
    "            else:\n",
    "                result.append(str(node.val))\n",
    "                helper(node.left)\n",
    "                helper(node.right)\n",
    "\n",
    "        helper(root)\n",
    "        return ','.join(result)\n",
    "\n",
    "    def deserialize(self, data):\n",
    "        values = iter(data.split(','))\n",
    "\n",
    "        def helper():\n",
    "            val = next(values)\n",
    "            if val == 'None':\n",
    "                return None\n",
    "            node = TreeNode(int(val))\n",
    "            node.left = helper()\n",
    "            node.right = helper()\n",
    "            return node\n",
    "\n",
    "        return helper()\n"
   ]
  },
  {
   "cell_type": "code",
   "execution_count": null,
   "metadata": {},
   "outputs": [],
   "source": []
  }
 ],
 "metadata": {
  "kernelspec": {
   "display_name": "Python 3",
   "language": "python",
   "name": "python3"
  },
  "language_info": {
   "codemirror_mode": {
    "name": "ipython",
    "version": 3
   },
   "file_extension": ".py",
   "mimetype": "text/x-python",
   "name": "python",
   "nbconvert_exporter": "python",
   "pygments_lexer": "ipython3",
   "version": "3.12.6"
  }
 },
 "nbformat": 4,
 "nbformat_minor": 2
}
