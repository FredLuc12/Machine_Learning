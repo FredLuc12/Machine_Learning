{
 "cells": [
  {
   "cell_type": "code",
   "execution_count": null,
   "metadata": {},
   "outputs": [],
   "source": [
    "class UnionFind:\n",
    "    def __init__(self, size):\n",
    "        self.parent = list(range(size))\n",
    "\n",
    "    def find(self, x):\n",
    "        if self.parent[x] != x:\n",
    "            self.parent[x] = self.find(self.parent[x])\n",
    "        return self.parent[x]\n",
    "\n",
    "    def union(self, x, y):\n",
    "        rootX = self.find(x)\n",
    "        rootY = self.find(y)\n",
    "        if rootX != rootY:\n",
    "            self.parent[rootX] = rootY\n",
    "\n",
    "def findCircleNum(M):\n",
    "    n = len(M)\n",
    "    uf = UnionFind(n)\n",
    "    \n",
    "    for i in range(n):\n",
    "        for j in range(i + 1, n):\n",
    "            if M[i][j] == 1:\n",
    "                uf.union(i, j)\n",
    "    \n",
    "    return len(set(uf.find(i) for i in range(n)))\n"
   ]
  },
  {
   "cell_type": "code",
   "execution_count": null,
   "metadata": {},
   "outputs": [],
   "source": [
    "class UnionFind:\n",
    "    def __init__(self, size):\n",
    "        self.parent = [-1] * size\n",
    "        self.count = 0\n",
    "\n",
    "    def find(self, x):\n",
    "        if self.parent[x] != x:\n",
    "            self.parent[x] = self.find(self.parent[x])\n",
    "        return self.parent[x]\n",
    "\n",
    "    def union(self, x, y):\n",
    "        rootX = self.find(x)\n",
    "        rootY = self.find(y)\n",
    "        if rootX != rootY:\n",
    "            self.parent[rootX] = rootY\n",
    "            self.count -= 1\n",
    "\n",
    "def numIslands2(m, n, positions):\n",
    "    def position_to_index(r, c):\n",
    "        return r * n + c\n",
    "\n",
    "    uf = UnionFind(m * n)\n",
    "    result = []\n",
    "    directions = [(0, 1), (1, 0), (0, -1), (-1, 0)]\n",
    "    \n",
    "    for r, c in positions:\n",
    "        if uf.parent[position_to_index(r, c)] == -1:\n",
    "            uf.parent[position_to_index(r, c)] = position_to_index(r, c)\n",
    "            uf.count += 1\n",
    "            for dr, dc in directions:\n",
    "                nr, nc = r + dr, c + dc\n",
    "                if 0 <= nr < m and 0 <= nc < n and uf.parent[position_to_index(nr, nc)] != -1:\n",
    "                    uf.union(position_to_index(r, c), position_to_index(nr, nc))\n",
    "        result.append(uf.count)\n",
    "    \n",
    "    return result\n"
   ]
  }
 ],
 "metadata": {
  "language_info": {
   "name": "python"
  }
 },
 "nbformat": 4,
 "nbformat_minor": 2
}
