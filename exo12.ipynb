{
 "cells": [
  {
   "cell_type": "code",
   "execution_count": null,
   "metadata": {},
   "outputs": [],
   "source": [
    "import heapq\n",
    "\n",
    "class KthLargest:\n",
    "    def __init__(self, k, nums):\n",
    "        self.k = k\n",
    "        self.min_heap = nums\n",
    "        heapq.heapify(self.min_heap)\n",
    "        while len(self.min_heap) > k:\n",
    "            heapq.heappop(self.min_heap)\n",
    "\n",
    "    def add(self, val):\n",
    "        heapq.heappush(self.min_heap, val)\n",
    "        if len(self.min_heap) > self.k:\n",
    "            heapq.heappop(self.min_heap)\n",
    "        return self.min_heap[0]\n"
   ]
  },
  {
   "cell_type": "code",
   "execution_count": null,
   "metadata": {},
   "outputs": [],
   "source": [
    "import heapq\n",
    "\n",
    "class ListNode:\n",
    "    def __init__(self, val=0, next=None):\n",
    "        self.val = val\n",
    "        self.next = next\n",
    "\n",
    "def mergeKLists(lists):\n",
    "    min_heap = []\n",
    "    for i, l in enumerate(lists):\n",
    "        if l:\n",
    "            heapq.heappush(min_heap, (l.val, i, l))\n",
    "    \n",
    "    dummy = ListNode()\n",
    "    current = dummy\n",
    "    \n",
    "    while min_heap:\n",
    "        val, i, node = heapq.heappop(min_heap)\n",
    "        current.next = ListNode(val)\n",
    "        current = current.next\n",
    "        if node.next:\n",
    "            heapq.heappush(min_heap, (node.next.val, i, node.next))\n",
    "    \n",
    "    return dummy.next\n"
   ]
  },
  {
   "cell_type": "code",
   "execution_count": null,
   "metadata": {},
   "outputs": [],
   "source": [
    "from collections import Counter\n",
    "import heapq\n",
    "\n",
    "def topKFrequent(words, k):\n",
    "    count = Counter(words)\n",
    "    return heapq.nsmallest(k, count.keys(), key=lambda word: (-count[word], word))\n"
   ]
  },
  {
   "cell_type": "code",
   "execution_count": null,
   "metadata": {},
   "outputs": [],
   "source": [
    "from collections import Counter\n",
    "import heapq\n",
    "\n",
    "def leastInterval(tasks, n):\n",
    "    task_counts = list(Counter(tasks).values())\n",
    "    max_heap = [-count for count in task_counts]\n",
    "    heapq.heapify(max_heap)\n",
    "    \n",
    "    time = 0\n",
    "    while max_heap:\n",
    "        temp = []\n",
    "        for _ in range(n + 1):\n",
    "            if max_heap:\n",
    "                temp.append(heapq.heappop(max_heap))\n",
    "        \n",
    "        for task in temp:\n",
    "            if task + 1 < 0:\n",
    "                heapq.heappush(max_heap, task + 1)\n",
    "        \n",
    "        time += n + 1 if max_heap else len(temp)\n",
    "    \n",
    "    return time\n"
   ]
  }
 ],
 "metadata": {
  "language_info": {
   "name": "python"
  }
 },
 "nbformat": 4,
 "nbformat_minor": 2
}
