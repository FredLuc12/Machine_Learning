{
 "cells": [
  {
   "cell_type": "code",
   "execution_count": null,
   "metadata": {},
   "outputs": [],
   "source": [
    "import pandas as pd\n",
    "\n",
    "class Solution(object):\n",
    "    def islandPerimeter(self, grid):\n",
    "        \"\"\"\n",
    "        :type grid: List[List[int]]\n",
    "        :rtype: int\n",
    "        1 <= row, col <= 100\n",
    "        grid[i][j] est 0 ou 1\n",
    "        \"\"\"\n",
    "        if not grid:\n",
    "            return 0\n",
    "        rows = len(grid)\n",
    "        cols = len(grid[0])\n",
    "        perimeter = 0\n",
    "        for i in range(rows):\n",
    "            for j in range(cols):\n",
    "                if grid[i][j] == 1:\n",
    "                    # Ajouter 4 au périmètre pour chaque terre (1)\n",
    "                    perimeter += 4\n",
    "                    # Si la cellule en haut est une île, enlever 2 (ils partagent un bord)\n",
    "                    if i > 0 and grid[i-1][j] == 1:\n",
    "                        perimeter -= 2\n",
    "                    # Si la cellule à gauche est une île, enlever 2 (ils partagent un bord)\n",
    "                    if j > 0 and grid[i][j-1] == 1:\n",
    "                        perimeter -= 2\n",
    "        return perimeter\n"
   ]
  }
 ],
 "metadata": {
  "kernelspec": {
   "display_name": "Python 3",
   "language": "python",
   "name": "python3"
  },
  "language_info": {
   "name": "python",
   "version": "3.12.6"
  }
 },
 "nbformat": 4,
 "nbformat_minor": 2
}
