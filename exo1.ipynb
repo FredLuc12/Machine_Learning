{
 "cells": [
  {
   "cell_type": "code",
   "execution_count": 11,
   "metadata": {},
   "outputs": [
    {
     "name": "stdout",
     "output_type": "stream",
     "text": [
      "16\n"
     ]
    }
   ],
   "source": [
    "class Solution(object):\n",
    "    def islandPerimeter(self, grid):\n",
    "        \"\"\"\n",
    "        :type grid: List[List[int]]\n",
    "        :rtype: int\n",
    "        1 <= row, col <= 100\n",
    "        grid[i][j] est 0 ou 1\n",
    "        \"\"\"\n",
    "        if not grid:\n",
    "            return 0\n",
    "        rows = len(grid)\n",
    "        cols = len(grid[0])\n",
    "        perimeter = 0\n",
    "        for i in range(rows):\n",
    "            for j in range(cols):\n",
    "                if grid[i][j] == 1:\n",
    "                    perimeter += 4\n",
    "                    if i > 0 and grid[i-1][j] == 1:\n",
    "                        perimeter -= 2\n",
    "                    if j > 0 and grid[i][j-1] == 1:\n",
    "                        perimeter -= 2\n",
    "        return perimeter\n",
    "grid = [\n",
    "    [0, 1, 0, 0],\n",
    "    [1, 1, 1, 0],\n",
    "    [0, 1, 0, 0],\n",
    "    [1, 1, 0, 0]\n",
    "]\n",
    "\n",
    "sol = Solution()\n",
    "print(sol.islandPerimeter(grid))\n"
   ]
  }
 ],
 "metadata": {
  "kernelspec": {
   "display_name": "Python 3",
   "language": "python",
   "name": "python3"
  },
  "language_info": {
   "codemirror_mode": {
    "name": "ipython",
    "version": 3
   },
   "file_extension": ".py",
   "mimetype": "text/x-python",
   "name": "python",
   "nbconvert_exporter": "python",
   "pygments_lexer": "ipython3",
   "version": "3.12.6"
  }
 },
 "nbformat": 4,
 "nbformat_minor": 2
}
