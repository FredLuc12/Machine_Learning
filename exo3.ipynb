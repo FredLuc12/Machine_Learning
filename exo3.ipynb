{
 "cells": [
  {
   "cell_type": "code",
   "execution_count": null,
   "metadata": {},
   "outputs": [],
   "source": [
    "class Solution(object):\n",
    "    def findMaxForm(self, strs, m, n):\n",
    "        \"\"\"\n",
    "        :type strs: List[str]\n",
    "        :type m: int\n",
    "        :type n: int\n",
    "        :rtype: int\n",
    "        \"\"\"\n",
    "        # On initialise une matrice dp avec (m+1) x (n+1) dimensions, toutes les cases initialisées à 0\n",
    "        dp = [[0] * (n + 1) for _ in range(m + 1)]\n",
    "\n",
    "        # On parcourt chaque chaîne dans la liste strs\n",
    "        for s in strs:\n",
    "            # Compter le nombre de zéros et d'uns dans la chaîne s\n",
    "            zero_count = s.count('0')\n",
    "            one_count = s.count('1')\n",
    "\n",
    "            # On met à jour la matrice dp en partant des valeurs les plus grandes pour éviter les collisions de mise à jour\n",
    "            for i in range(m, zero_count - 1, -1):\n",
    "                for j in range(n, one_count - 1, -1):\n",
    "                    dp[i][j] = max(dp[i][j], dp[i - zero_count][j - one_count] + 1)\n",
    "\n",
    "        # Le résultat final sera stocké dans dp[m][n]\n",
    "        return dp[m][n]\n"
   ]
  }
 ],
 "metadata": {
  "language_info": {
   "name": "python"
  }
 },
 "nbformat": 4,
 "nbformat_minor": 2
}
